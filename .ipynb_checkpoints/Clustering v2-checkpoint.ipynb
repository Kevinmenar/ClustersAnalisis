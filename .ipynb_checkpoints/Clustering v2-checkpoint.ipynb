{
 "cells": [
  {
   "cell_type": "markdown",
   "id": "improving-buffer",
   "metadata": {},
   "source": [
    "### Importación de librerías y carga de los datos"
   ]
  },
  {
   "cell_type": "code",
   "execution_count": 40,
   "id": "overall-shepherd",
   "metadata": {},
   "outputs": [],
   "source": [
    "import numpy as np\n",
    "import pandas as pd\n",
    "import matplotlib.pyplot as plt\n",
    "from matplotlib import pyplot\n",
    "from sklearn import linear_model\n",
    "from numpy import genfromtxt\n",
    "from sklearn.cluster import KMeans\n",
    "from sklearn.model_selection import train_test_split\n",
    "from sklearn.metrics import accuracy_score\n",
    "from sklearn.metrics.cluster import adjusted_rand_score\n",
    "from sklearn.preprocessing import MinMaxScaler\n",
    "from sklearn.metrics import silhouette_score, silhouette_samples, calinski_harabasz_score, davies_bouldin_score\n",
    "from sklearn.decomposition import PCA\n",
    "from validclust import dunn\n",
    "from sklearn.metrics import pairwise_distances\n",
    "from sklearn.decomposition import FactorAnalysis\n",
    "\n",
    "from factor_analyzer import FactorAnalyzer\n",
    "from factor_analyzer.factor_analyzer import calculate_bartlett_sphericity\n",
    "from factor_analyzer.factor_analyzer import calculate_kmo\n",
    "\n",
    "X = pd.read_csv('OutTest.csv', header = 0)\n",
    "data_frame = X"
   ]
  },
  {
   "cell_type": "markdown",
   "id": "mature-ceramic",
   "metadata": {},
   "source": [
    "### Escalado de los datos\n",
    "* Se utiliza minmax scaler debido a que el pca es suceptible a outlyers"
   ]
  },
  {
   "cell_type": "code",
   "execution_count": 41,
   "id": "obvious-neighborhood",
   "metadata": {},
   "outputs": [
    {
     "name": "stdout",
     "output_type": "stream",
     "text": [
      "[[0.43251595 0.34350633 0.10612245 ... 0.14396151 0.4725     0.00727217]\n",
      " [0.28924875 0.23297284 0.06938776 ... 0.05938634 0.3        0.00727217]\n",
      " [0.12437789 0.22508039 0.4        ... 0.01975123 0.5975     0.03636082]\n",
      " ...\n",
      " [0.92219036 0.5596708  0.15918367 ... 0.01394623 0.335      0.47136849]\n",
      " [0.64039068 0.69721607 0.00816327 ... 0.01486527 0.4225     0.80588806]\n",
      " [0.6981706  0.74876399 0.07755102 ... 0.00987075 0.3325     0.50177936]]\n"
     ]
    }
   ],
   "source": [
    "scaler = MinMaxScaler()\n",
    "scaler.fit(X)\n",
    "X_scaled = scaler.transform(X)\n",
    "print(X_scaled)"
   ]
  },
  {
   "cell_type": "markdown",
   "id": "buried-muscle",
   "metadata": {},
   "source": [
    "### Reducción de dimencionalidad por PCA\n",
    "* Se toma un valor arbitrario de 40 componentes principales\n",
    "* Se despliega el gráfico de codo para medir la incidencia da cada componente\n",
    "* Se almacena la varianza explicada para ser estudiada una vez aplicado el estudio bajo un cluster"
   ]
  },
  {
   "cell_type": "code",
   "execution_count": 42,
   "id": "synthetic-origin",
   "metadata": {},
   "outputs": [
    {
     "data": {
      "image/png": "[encoded data removed]",
      "text/plain": [
       "<Figure size 432x288 with 1 Axes>"
      ]
     },
     "metadata": {
      "needs_background": "light"
     },
     "output_type": "display_data"
    },
    {
     "name": "stdout",
     "output_type": "stream",
     "text": [
      "[0.29411526 0.15742569 0.10912983 0.06599449 0.05834207 0.04594625\n",
      " 0.04095571 0.03190626 0.02576061 0.02252817 0.02073933 0.01541233\n",
      " 0.01407358 0.0122826  0.0118621  0.01056688 0.00856989 0.00800972\n",
      " 0.00757642 0.00472963 0.0046437  0.00414087 0.00344187 0.00316957\n",
      " 0.00296286 0.00217622 0.00195714 0.00177587 0.001222   0.00114475\n",
      " 0.0010246  0.00096729 0.00089218 0.00070042 0.00066759 0.0005464\n",
      " 0.00049578 0.00045011 0.00038506 0.00032585]\n"
     ]
    }
   ],
   "source": [
    "columns_counts = 40\n",
    "\n",
    "pca = PCA(n_components=columns_counts, copy=True)\n",
    "pca_x = pca.fit_transform(X_scaled)\n",
    "PC_values = np.arange(pca.n_components_) + 1\n",
    "plt.plot(PC_values, pca.explained_variance_ratio_, 'o-', linewidth=2, color='blue')\n",
    "plt.title('Scree Plot')\n",
    "plt.xlabel('Principal Component')\n",
    "plt.ylabel('Variance Explained')\n",
    "plt.show()\n",
    "explained_variance = pca.explained_variance_ratio_\n",
    "print(explained_variance)"
   ]
  },
  {
   "cell_type": "markdown",
   "id": "soviet-competition",
   "metadata": {},
   "source": [
    "### Reducción de dimencionalidad con analisas de factores\n",
    "* Retorna el grado de factores en relación a la cantidad de componentes\n",
    "* "
   ]
  },
  {
   "cell_type": "code",
   "execution_count": 43,
   "id": "objective-background",
   "metadata": {},
   "outputs": [
    {
     "name": "stdout",
     "output_type": "stream",
     "text": [
      "[ 1.40276831e+01  4.98564998e+00  3.48912798e+00  3.28349023e+00\n",
      "  2.11108884e+00  1.79185295e+00  1.49060371e+00  1.30108083e+00\n",
      "  1.14481840e+00  7.93715882e-01  7.47059492e-01  7.20370097e-01\n",
      "  5.35604246e-01  4.63042175e-01  4.25983231e-01  3.74194153e-01\n",
      "  3.30554265e-01  3.21775310e-01  2.61419593e-01  2.53507135e-01\n",
      "  2.08898525e-01  2.00108285e-01  1.81286484e-01  1.52763008e-01\n",
      "  1.50443509e-01  1.22427268e-01  1.13665435e-01  1.01352812e-01\n",
      "  8.92587893e-02  8.27677363e-02  7.47456694e-02  6.14578669e-02\n",
      "  4.81270031e-02  3.91403139e-02  3.48906917e-02  2.57979332e-02\n",
      "  2.44287506e-02  2.19638499e-02  2.03778046e-02  1.28708740e-02\n",
      "  4.93768990e-04  1.18451957e-04  6.66522293e-05 -4.58421307e-05\n",
      " -2.68651261e-04 -8.52787298e-04 -2.49981136e-03 -2.49993369e-03]\n"
     ]
    },
    {
     "data": {
      "image/png": "[encoded data removed]",
      "text/plain": [
       "<Figure size 432x288 with 1 Axes>"
      ]
     },
     "metadata": {
      "needs_background": "light"
     },
     "output_type": "display_data"
    }
   ],
   "source": [
    "fa = FactorAnalyzer(columns_counts, rotation=None)\n",
    "fa.fit(X_scaled)\n",
    "\n",
    "#GET EIGENVALUES\n",
    "ev = fa.get_eigenvalues()\n",
    "print(ev[1])\n",
    "\n",
    "plt.scatter(range(1,X_scaled.shape[1]+1),ev[1])\n",
    "plt.plot(range(1,X_scaled.shape[1]+1),ev[1])\n",
    "plt.title('Scree Plot')\n",
    "plt.xlabel('Factors')\n",
    "plt.ylabel('Eigenvalue')\n",
    "plt.grid()\n",
    "plt.show()"
   ]
  },
  {
   "cell_type": "markdown",
   "id": "acoustic-wrapping",
   "metadata": {},
   "source": [
    "### Analisis a profundidad del analisis de factores con la métrica de la silueta y dunn index\n",
    "\n",
    "* El índice de Dunn es la relación entre la distancia más pequeña entre las observaciones que no están en el mismo grupo y la distancia más grande dentro del grupo. El índice de Dunn tiene un valor entre cero e infinito y debe maximizarse."
   ]
  },
  {
   "cell_type": "code",
   "execution_count": 44,
   "id": "immune-tracker",
   "metadata": {},
   "outputs": [],
   "source": [
    "fa_x = fa.loadings_\n",
    "max_clusters_FA = 20\n",
    "silhoutte_list_FA = []\n",
    "wcss_FA = []\n",
    "DI_list_FA = []\n",
    "\n",
    "for j in range(2,max_clusters_FA):\n",
    "    kmeans = KMeans(n_clusters=j, random_state=0)\n",
    "    kmeans.fit(fa_x)\n",
    "    labels = kmeans.labels_\n",
    "    dist = pairwise_distances(fa_x)\n",
    "    dunn_index = dunn(dist, labels)\n",
    "    DI_list_FA.append(dunn_index)\n",
    "    silhoutte = silhouette_score(fa_x, labels, metric='sqeuclidean')\n",
    "    silhoutte_list_FA.append(silhoutte)\n",
    "    wcss_FA.append(kmeans.inertia_)"
   ]
  },
  {
   "cell_type": "markdown",
   "id": "altered-burke",
   "metadata": {},
   "source": [
    "### Analisis aprofundidad de PCA con métricas de la silueta y dunn index"
   ]
  },
  {
   "cell_type": "code",
   "execution_count": 45,
   "id": "beautiful-reserve",
   "metadata": {},
   "outputs": [],
   "source": [
    "max_clusters_PCA = 20\n",
    "silhoutte_list_PCA = []\n",
    "wcss_PCA = []\n",
    "DI_list_PCA = []\n",
    "\n",
    "for j in range(2,max_clusters_PCA):\n",
    "    kmeans = KMeans(n_clusters=j, random_state=0)\n",
    "    kmeans.fit(pca_x)\n",
    "    labels = kmeans.labels_\n",
    "    dist = pairwise_distances(pca_x)\n",
    "    dunn_index = dunn(dist, labels)\n",
    "    DI_list_PCA.append(dunn_index)\n",
    "    silhoutte = silhouette_score(pca_x, labels, metric='sqeuclidean')\n",
    "    silhoutte_list_PCA.append(silhoutte)\n",
    "    wcss_PCA.append(kmeans.inertia_)"
   ]
  },
  {
   "cell_type": "markdown",
   "id": "roman-photography",
   "metadata": {},
   "source": [
    "### Exportación de los valores obtenidos anteriormente para poder volver ser cargados para analizarse después de analizarlo con el cluster"
   ]
  },
  {
   "cell_type": "code",
   "execution_count": 50,
   "id": "popular-information",
   "metadata": {},
   "outputs": [
    {
     "name": "stdout",
     "output_type": "stream",
     "text": [
      "0.5407315482592228 0.5462702321740532 0.4841943006552051 0.4841943006552051 0.5410212419446234 0.5537261514865877 0.4807658169279634 0.513063515109633 0.4807658169279634 0.5879679960685693 0.49397458192633303 0.5303811778877595 0.5137793378995654 0.4879332810034695 0.468670057546616 0.6139835308735162 0.6139835308735162 0.6031325904707017\n",
      "0.050841184593197745 0.052402243722386 0.05605963669139084 0.03945780446677976 0.06280528087452138 0.06280528087452138 0.060996467912979004 0.08185579269138 0.07226416744875418 0.07226416744875418 0.05251734797582094 0.055190722353861306 0.055442791627838384 0.06920954245101069 0.0881328051393707 0.06953559200651838 0.10556905174019683 0.06253273362944513\n"
     ]
    }
   ],
   "source": [
    "DI_list_FA_str = \" \".join(str(x) for x in DI_list_FA)\n",
    "DI_list_PCA_str = \" \".join(str(x) for x in DI_list_PCA)\n",
    "print(DI_list_FA_str)\n",
    "print(DI_list_PCA_str)\n",
    "\n",
    "textfile = open(\"a_file.txt\", \"w\")\n",
    "textfile.write(DI_list_FA_str + \"\\n\")\n",
    "textfile.write(DI_list_PCA_str + \"\\n\")\n",
    "textfile.close()"
   ]
  },
  {
   "cell_type": "code",
   "execution_count": null,
   "id": "subtle-clock",
   "metadata": {},
   "outputs": [],
   "source": []
  }
 ],
 "metadata": {
  "kernelspec": {
   "display_name": "Python 3",
   "language": "python",
   "name": "python3"
  },
  "language_info": {
   "codemirror_mode": {
    "name": "ipython",
    "version": 3
   },
   "file_extension": ".py",
   "mimetype": "text/x-python",
   "name": "python",
   "nbconvert_exporter": "python",
   "pygments_lexer": "ipython3",
   "version": "3.8.8"
  }
 },
 "nbformat": 4,
 "nbformat_minor": 5
}
